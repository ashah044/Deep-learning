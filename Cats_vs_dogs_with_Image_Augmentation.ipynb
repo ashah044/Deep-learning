{
  "nbformat": 4,
  "nbformat_minor": 0,
  "metadata": {
    "colab": {
      "name": "Cats-vs-dogs with Image Augmentation.ipynb",
      "provenance": [],
      "collapsed_sections": []
    },
    "kernelspec": {
      "name": "python3",
      "display_name": "Python 3"
    },
    "accelerator": "GPU"
  },
  "cells": [
    {
      "cell_type": "code",
      "metadata": {
        "id": "dn-6c02VmqiN",
        "colab_type": "code",
        "colab": {}
      },
      "source": [
        "# In this exercise you will train a CNN on the FULL Cats-v-dogs dataset\n",
        "# This will require you doing a lot of data preprocessing because\n",
        "# the dataset isn't split into training and validation for you\n",
        "# This code block has all the required inputs\n",
        "import os\n",
        "import zipfile\n",
        "import random\n",
        "import tensorflow as tf\n",
        "from tensorflow.keras.optimizers import RMSprop\n",
        "from tensorflow.keras.preprocessing.image import ImageDataGenerator\n",
        "from shutil import copyfile"
      ],
      "execution_count": 0,
      "outputs": []
    },
    {
      "cell_type": "code",
      "metadata": {
        "id": "3sd9dQWa23aj",
        "colab_type": "code",
        "outputId": "369facdf-24bd-4d4c-a1a5-04ff3470855c",
        "colab": {
          "base_uri": "https://localhost:8080/",
          "height": 204
        }
      },
      "source": [
        "# This code block downloads the full Cats-v-Dogs dataset and stores it as \n",
        "# cats-and-dogs.zip. It then unzips it to /tmp\n",
        "# which will create a tmp/PetImages directory containing subdirectories\n",
        "# called 'Cat' and 'Dog' (that's how the original researchers structured it)\n",
        "# If the URL doesn't work, \n",
        "# .   visit https://www.microsoft.com/en-us/download/confirmation.aspx?id=54765\n",
        "# And right click on the 'Download Manually' link to get a new URL\n",
        "\n",
        "!wget --no-check-certificate \\\n",
        "    \"https://download.microsoft.com/download/3/E/1/3E1C3F21-ECDB-4869-8368-6DEBA77B919F/kagglecatsanddogs_3367a.zip\" \\\n",
        "    -O \"/tmp/cats-and-dogs.zip\"\n",
        "\n",
        "local_zip = '/tmp/cats-and-dogs.zip'\n",
        "zip_ref = zipfile.ZipFile(local_zip, 'r')\n",
        "zip_ref.extractall('/tmp')\n",
        "zip_ref.close()\n"
      ],
      "execution_count": 0,
      "outputs": [
        {
          "output_type": "stream",
          "text": [
            "--2019-10-18 15:01:04--  https://download.microsoft.com/download/3/E/1/3E1C3F21-ECDB-4869-8368-6DEBA77B919F/kagglecatsanddogs_3367a.zip\n",
            "Resolving download.microsoft.com (download.microsoft.com)... 104.93.0.142, 2600:1417:76:49f::e59, 2600:1417:76:495::e59\n",
            "Connecting to download.microsoft.com (download.microsoft.com)|104.93.0.142|:443... connected.\n",
            "HTTP request sent, awaiting response... 200 OK\n",
            "Length: 824894548 (787M) [application/octet-stream]\n",
            "Saving to: ‘/tmp/cats-and-dogs.zip’\n",
            "\n",
            "/tmp/cats-and-dogs. 100%[===================>] 786.68M   111MB/s    in 11s     \n",
            "\n",
            "2019-10-18 15:01:16 (69.1 MB/s) - ‘/tmp/cats-and-dogs.zip’ saved [824894548/824894548]\n",
            "\n"
          ],
          "name": "stdout"
        }
      ]
    },
    {
      "cell_type": "code",
      "metadata": {
        "id": "gi3yD62a6X3S",
        "colab_type": "code",
        "outputId": "cff881a4-9e13-426f-d65f-675187950a3e",
        "colab": {
          "base_uri": "https://localhost:8080/",
          "height": 51
        }
      },
      "source": [
        "print(len(os.listdir('/tmp/PetImages/Cat/')))\n",
        "print(len(os.listdir('/tmp/PetImages/Dog/')))\n",
        "\n",
        "# Expected Output:\n",
        "# 12501\n",
        "# 12501"
      ],
      "execution_count": 0,
      "outputs": [
        {
          "output_type": "stream",
          "text": [
            "12501\n",
            "12501\n"
          ],
          "name": "stdout"
        }
      ]
    },
    {
      "cell_type": "code",
      "metadata": {
        "id": "F-QkLjxpmyK2",
        "colab_type": "code",
        "colab": {}
      },
      "source": [
        "# Use os.mkdir to create your directories\n",
        "# You will need a directory for cats-v-dogs, and subdirectories for training\n",
        "# and testing. These in turn will need subdirectories for 'cats' and 'dogs'\n",
        "try:\n",
        "    os.makedirs(\"/tmp/cats-v-dogs/training/cats/\")\n",
        "    os.makedirs(\"/tmp/cats-v-dogs/testing/cats/\")\n",
        "    os.mkdir(\"/tmp/cats-v-dogs/training/dogs/\")\n",
        "    os.mkdir(\"/tmp/cats-v-dogs/testing/dogs/\")\n",
        "    \n",
        "except OSError:\n",
        "    pass"
      ],
      "execution_count": 0,
      "outputs": []
    },
    {
      "cell_type": "code",
      "metadata": {
        "id": "zvSODo0f9LaU",
        "colab_type": "code",
        "outputId": "fd3076b5-a950-4c01-fef8-1965884fcc73",
        "colab": {
          "base_uri": "https://localhost:8080/",
          "height": 51
        }
      },
      "source": [
        "# Write a python function called split_data which takes\n",
        "# a SOURCE directory containing the files\n",
        "# a TRAINING directory that a portion of the files will be copied to\n",
        "# a TESTING directory that a portion of the files will be copie to\n",
        "# a SPLIT SIZE to determine the portion\n",
        "# The files should also be randomized, so that the training set is a random\n",
        "# X% of the files, and the test set is the remaining files\n",
        "# SO, for example, if SOURCE is PetImages/Cat, and SPLIT SIZE is .9\n",
        "# Then 90% of the images in PetImages/Cat will be copied to the TRAINING dir\n",
        "# and 10% of the images will be copied to the TESTING dir\n",
        "# Also -- All images should be checked, and if they have a zero file length,\n",
        "# they will not be copied over\n",
        "#\n",
        "# os.listdir(DIRECTORY) gives you a listing of the contents of that directory\n",
        "# os.path.getsize(PATH) gives you the size of the file\n",
        "# copyfile(source, destination) copies a file from source to destination\n",
        "# random.sample(list, len(list)) shuffles a list\n",
        "def split_data(SOURCE, TRAINING, TESTING, SPLIT_SIZE):\n",
        "# YOUR CODE STARTS HERE\n",
        "  def copyFiles(SOURCE, DESTINATION, listOfNames):\n",
        "    for name in listOfNames:\n",
        "      source_path = os.path.join(SOURCE, name)\n",
        "      dest_path = os.path.join(DESTINATION, name)\n",
        "      \n",
        "      if os.path.getsize(source_path)>0:\n",
        "        copyfile(source_path, dest_path)\n",
        "      else:\n",
        "        print(name+' is zero length, so ignoring')\n",
        "      \n",
        "  \n",
        "  RawlistNames = os.listdir(SOURCE)\n",
        "  listNames = []\n",
        "  \n",
        "  for validFile in RawlistNames:\n",
        "    if os.path.getsize(os.path.join(SOURCE, validFile))>0:\n",
        "      listNames.append(validFile)\n",
        "    else:\n",
        "      print(validFile+' is zero length, so ignoring')\n",
        " \n",
        "  \n",
        "  train_names = random.sample(listNames, int(len(listNames)*SPLIT_SIZE))\n",
        "  test_names = [names for names in listNames if names not in train_names]\n",
        "  \n",
        "  copyFiles(SOURCE, TRAINING, train_names)\n",
        "  copyFiles(SOURCE, TESTING, test_names)\n",
        "# YOUR CODE ENDS HERE\n",
        "\n",
        "\n",
        "CAT_SOURCE_DIR = \"/tmp/PetImages/Cat/\"\n",
        "TRAINING_CATS_DIR = \"/tmp/cats-v-dogs/training/cats/\"\n",
        "TESTING_CATS_DIR = \"/tmp/cats-v-dogs/testing/cats/\"\n",
        "DOG_SOURCE_DIR = \"/tmp/PetImages/Dog/\"\n",
        "TRAINING_DOGS_DIR = \"/tmp/cats-v-dogs/training/dogs/\"\n",
        "TESTING_DOGS_DIR = \"/tmp/cats-v-dogs/testing/dogs/\"\n",
        "\n",
        "split_size = .9\n",
        "split_data(CAT_SOURCE_DIR, TRAINING_CATS_DIR, TESTING_CATS_DIR, split_size)\n",
        "split_data(DOG_SOURCE_DIR, TRAINING_DOGS_DIR, TESTING_DOGS_DIR, split_size)\n",
        "\n",
        "# Expected output\n",
        "# 666.jpg is zero length, so ignoring\n",
        "# 11702.jpg is zero length, so ignoring"
      ],
      "execution_count": 0,
      "outputs": [
        {
          "output_type": "stream",
          "text": [
            "666.jpg is zero length, so ignoring\n",
            "11702.jpg is zero length, so ignoring\n"
          ],
          "name": "stdout"
        }
      ]
    },
    {
      "cell_type": "code",
      "metadata": {
        "id": "luthalB76ufC",
        "colab_type": "code",
        "outputId": "a11c7b12-b414-4bbc-928f-6787d83e3313",
        "colab": {
          "base_uri": "https://localhost:8080/",
          "height": 85
        }
      },
      "source": [
        "print(len(os.listdir('/tmp/cats-v-dogs/training/cats/')))\n",
        "print(len(os.listdir('/tmp/cats-v-dogs/training/dogs/')))\n",
        "print(len(os.listdir('/tmp/cats-v-dogs/testing/cats/')))\n",
        "print(len(os.listdir('/tmp/cats-v-dogs/testing/dogs/')))\n",
        "\n",
        "# Expected output:\n",
        "# 11250\n",
        "# 11250\n",
        "# 1250\n",
        "# 1250"
      ],
      "execution_count": 0,
      "outputs": [
        {
          "output_type": "stream",
          "text": [
            "11250\n",
            "11250\n",
            "1250\n",
            "1250\n"
          ],
          "name": "stdout"
        }
      ]
    },
    {
      "cell_type": "code",
      "metadata": {
        "id": "-BQrav4anTmj",
        "colab_type": "code",
        "outputId": "b2979164-0902-4178-8ceb-aed5c0c038ee",
        "colab": {
          "base_uri": "https://localhost:8080/",
          "height": 139
        }
      },
      "source": [
        "# DEFINE A KERAS MODEL TO CLASSIFY CATS V DOGS\n",
        "# USE AT LEAST 3 CONVOLUTION LAYERS\n",
        "model = tf.keras.models.Sequential([\n",
        "# YOUR CODE HERE\n",
        "    tf.keras.layers.Conv2D(16, (3,3), activation='relu', input_shape=(150, 150, 3)),\n",
        "    tf.keras.layers.MaxPooling2D(2, 2),\n",
        "    # The second convolution\n",
        "    tf.keras.layers.Conv2D(32, (3,3), activation='relu'),\n",
        "    tf.keras.layers.MaxPooling2D(2,2),\n",
        "    # The third convolution\n",
        "    tf.keras.layers.Conv2D(64, (3,3), activation='relu'),\n",
        "    tf.keras.layers.MaxPooling2D(2,2),\n",
        "    # The fourth convolution\n",
        "    tf.keras.layers.Conv2D(64, (3,3), activation='relu'),\n",
        "    tf.keras.layers.MaxPooling2D(2,2),\n",
        "    # The fifth convolution\n",
        "    tf.keras.layers.Conv2D(64, (3,3), activation='relu'),\n",
        "    tf.keras.layers.MaxPooling2D(2,2),\n",
        "    # Flatten the results to feed into a DNN\n",
        "    tf.keras.layers.Flatten(),\n",
        "    # 512 neuron hidden layer\n",
        "    tf.keras.layers.Dense(512, activation='relu'),\n",
        "    # Only 1 output neuron. It will contain a value from 0-1 where 0 for 1 class ('horses') and 1 for the other ('humans')\n",
        "    tf.keras.layers.Dense(1, activation='sigmoid')\n",
        "])\n",
        "\n",
        "model.compile(optimizer=RMSprop(lr=0.001), loss='binary_crossentropy', metrics=['acc'])"
      ],
      "execution_count": 0,
      "outputs": [
        {
          "output_type": "stream",
          "text": [
            "WARNING:tensorflow:From /usr/local/lib/python3.6/dist-packages/tensorflow_core/python/ops/resource_variable_ops.py:1630: calling BaseResourceVariable.__init__ (from tensorflow.python.ops.resource_variable_ops) with constraint is deprecated and will be removed in a future version.\n",
            "Instructions for updating:\n",
            "If using Keras pass *_constraint arguments to layers.\n",
            "WARNING:tensorflow:From /usr/local/lib/python3.6/dist-packages/tensorflow_core/python/ops/nn_impl.py:183: where (from tensorflow.python.ops.array_ops) is deprecated and will be removed in a future version.\n",
            "Instructions for updating:\n",
            "Use tf.where in 2.0, which has the same broadcast rule as np.where\n"
          ],
          "name": "stdout"
        }
      ]
    },
    {
      "cell_type": "code",
      "metadata": {
        "id": "mlNjoJ5D61N6",
        "colab_type": "code",
        "outputId": "4276fb2e-7ea2-452f-91cf-f40cae8737c0",
        "colab": {
          "base_uri": "https://localhost:8080/",
          "height": 51
        }
      },
      "source": [
        "TRAINING_DIR = \"/tmp/cats-v-dogs/training/\"\n",
        "train_datagen = ImageDataGenerator(\n",
        "      rescale=1./255,\n",
        "      rotation_range=40,\n",
        "      width_shift_range=0.2,\n",
        "      height_shift_range=0.2,\n",
        "      shear_range=0.2,\n",
        "      zoom_range=0.2,\n",
        "      horizontal_flip=True,\n",
        "      fill_mode='nearest')\n",
        "train_generator = train_datagen.flow_from_directory(\n",
        "       TRAINING_DIR,  # This is the source directory for training images\n",
        "        target_size=(150, 150),  # All images will be resized to 150x150\n",
        "        batch_size=128,\n",
        "        # Since we use binary_crossentropy loss, we need binary labels\n",
        "        class_mode='binary')\n",
        "\n",
        "VALIDATION_DIR = \"/tmp/cats-v-dogs/testing/\"\n",
        "validation_datagen = ImageDataGenerator(rescale=1/255)\n",
        "validation_generator = validation_datagen.flow_from_directory(VALIDATION_DIR,\n",
        "                                           batch_size=20,\n",
        "                                           class_mode  = 'binary',\n",
        "                                           target_size = (150, 150))\n",
        "\n",
        "\n",
        "\n",
        "# Expected Output:\n",
        "# Found 22498 images belonging to 2 classes.\n",
        "# Found 2500 images belonging to 2 classes."
      ],
      "execution_count": 0,
      "outputs": [
        {
          "output_type": "stream",
          "text": [
            "Found 22498 images belonging to 2 classes.\n",
            "Found 2500 images belonging to 2 classes.\n"
          ],
          "name": "stdout"
        }
      ]
    },
    {
      "cell_type": "code",
      "metadata": {
        "id": "KyS4n53w7DxC",
        "colab_type": "code",
        "outputId": "a2817d1d-10a3-4560-83cd-984ca54f1d62",
        "colab": {
          "base_uri": "https://localhost:8080/",
          "height": 1000
        }
      },
      "source": [
        "history = model.fit_generator(train_generator,\n",
        "                              epochs=100,\n",
        "                              verbose=1,\n",
        "                              validation_data=validation_generator)\n",
        "\n",
        "# The expectation here is that the model will train, and that accuracy will be > 95% on both training and validation\n",
        "# i.e. acc:A1 and val_acc:A2 will be visible, and both A1 and A2 will be > .9"
      ],
      "execution_count": 0,
      "outputs": [
        {
          "output_type": "stream",
          "text": [
            "Epoch 1/100\n",
            " 37/176 [=====>........................] - ETA: 2:23 - loss: 0.2280 - acc: 0.8991"
          ],
          "name": "stdout"
        },
        {
          "output_type": "stream",
          "text": [
            "/usr/local/lib/python3.6/dist-packages/PIL/TiffImagePlugin.py:725: UserWarning: Possibly corrupt EXIF data.  Expecting to read 32 bytes but only got 0. Skipping tag 270\n",
            "  \" Skipping tag %s\" % (size, len(data), tag))\n",
            "/usr/local/lib/python3.6/dist-packages/PIL/TiffImagePlugin.py:725: UserWarning: Possibly corrupt EXIF data.  Expecting to read 5 bytes but only got 0. Skipping tag 271\n",
            "  \" Skipping tag %s\" % (size, len(data), tag))\n",
            "/usr/local/lib/python3.6/dist-packages/PIL/TiffImagePlugin.py:725: UserWarning: Possibly corrupt EXIF data.  Expecting to read 8 bytes but only got 0. Skipping tag 272\n",
            "  \" Skipping tag %s\" % (size, len(data), tag))\n",
            "/usr/local/lib/python3.6/dist-packages/PIL/TiffImagePlugin.py:725: UserWarning: Possibly corrupt EXIF data.  Expecting to read 8 bytes but only got 0. Skipping tag 282\n",
            "  \" Skipping tag %s\" % (size, len(data), tag))\n",
            "/usr/local/lib/python3.6/dist-packages/PIL/TiffImagePlugin.py:725: UserWarning: Possibly corrupt EXIF data.  Expecting to read 8 bytes but only got 0. Skipping tag 283\n",
            "  \" Skipping tag %s\" % (size, len(data), tag))\n",
            "/usr/local/lib/python3.6/dist-packages/PIL/TiffImagePlugin.py:725: UserWarning: Possibly corrupt EXIF data.  Expecting to read 20 bytes but only got 0. Skipping tag 306\n",
            "  \" Skipping tag %s\" % (size, len(data), tag))\n",
            "/usr/local/lib/python3.6/dist-packages/PIL/TiffImagePlugin.py:725: UserWarning: Possibly corrupt EXIF data.  Expecting to read 48 bytes but only got 0. Skipping tag 532\n",
            "  \" Skipping tag %s\" % (size, len(data), tag))\n",
            "/usr/local/lib/python3.6/dist-packages/PIL/TiffImagePlugin.py:742: UserWarning: Corrupt EXIF data.  Expecting to read 2 bytes but only got 0. \n",
            "  warnings.warn(str(msg))\n"
          ],
          "name": "stderr"
        },
        {
          "output_type": "stream",
          "text": [
            "\b\b\b\b\b\b\b\b\b\b\b\b\b\b\b\b\b\b\b\b\b\b\b\b\b\b\b\b\b\b\b\b\b\b\b\b\b\b\b\b\b\b\b\b\b\b\b\b\b\b\b\b\b\b\b\b\b\b\b\b\b\b\b\b\b\b\b\b\b\b\b\b\b\b\b\b\b\b\b\b\b\r 38/176 [=====>........................] - ETA: 2:22 - loss: 0.2270 - acc: 0.8999"
          ],
          "name": "stdout"
        },
        {
          "output_type": "stream",
          "text": [
            "/usr/local/lib/python3.6/dist-packages/PIL/TiffImagePlugin.py:725: UserWarning: Possibly corrupt EXIF data.  Expecting to read 262146 bytes but only got 0. Skipping tag 2\n",
            "  \" Skipping tag %s\" % (size, len(data), tag))\n",
            "/usr/local/lib/python3.6/dist-packages/PIL/TiffImagePlugin.py:725: UserWarning: Possibly corrupt EXIF data.  Expecting to read 262151 bytes but only got 0. Skipping tag 56\n",
            "  \" Skipping tag %s\" % (size, len(data), tag))\n",
            "/usr/local/lib/python3.6/dist-packages/PIL/TiffImagePlugin.py:742: UserWarning: Corrupt EXIF data.  Expecting to read 12 bytes but only got 0. \n",
            "  warnings.warn(str(msg))\n"
          ],
          "name": "stderr"
        },
        {
          "output_type": "stream",
          "text": [
            " 65/176 [==========>...................] - ETA: 1:54 - loss: 0.2201 - acc: 0.9033"
          ],
          "name": "stdout"
        },
        {
          "output_type": "stream",
          "text": [
            "/usr/local/lib/python3.6/dist-packages/PIL/TiffImagePlugin.py:725: UserWarning: Possibly corrupt EXIF data.  Expecting to read 80000 bytes but only got 0. Skipping tag 64640\n",
            "  \" Skipping tag %s\" % (size, len(data), tag))\n",
            "/usr/local/lib/python3.6/dist-packages/PIL/TiffImagePlugin.py:725: UserWarning: Possibly corrupt EXIF data.  Expecting to read 65536 bytes but only got 0. Skipping tag 3\n",
            "  \" Skipping tag %s\" % (size, len(data), tag))\n",
            "/usr/local/lib/python3.6/dist-packages/PIL/TiffImagePlugin.py:725: UserWarning: Possibly corrupt EXIF data.  Expecting to read 404094976 bytes but only got 0. Skipping tag 5\n",
            "  \" Skipping tag %s\" % (size, len(data), tag))\n",
            "/usr/local/lib/python3.6/dist-packages/PIL/TiffImagePlugin.py:725: UserWarning: Possibly corrupt EXIF data.  Expecting to read 404619264 bytes but only got 0. Skipping tag 5\n",
            "  \" Skipping tag %s\" % (size, len(data), tag))\n",
            "/usr/local/lib/python3.6/dist-packages/PIL/TiffImagePlugin.py:725: UserWarning: Possibly corrupt EXIF data.  Expecting to read 131072 bytes but only got 0. Skipping tag 3\n",
            "  \" Skipping tag %s\" % (size, len(data), tag))\n",
            "/usr/local/lib/python3.6/dist-packages/PIL/TiffImagePlugin.py:725: UserWarning: Possibly corrupt EXIF data.  Expecting to read 425459712 bytes but only got 0. Skipping tag 4\n",
            "  \" Skipping tag %s\" % (size, len(data), tag))\n",
            "/usr/local/lib/python3.6/dist-packages/PIL/TiffImagePlugin.py:725: UserWarning: Possibly corrupt EXIF data.  Expecting to read 1385474 bytes but only got 6833. Skipping tag 513\n",
            "  \" Skipping tag %s\" % (size, len(data), tag))\n",
            "/usr/local/lib/python3.6/dist-packages/PIL/TiffImagePlugin.py:725: UserWarning: Possibly corrupt EXIF data.  Expecting to read 3846701056 bytes but only got 0. Skipping tag 2\n",
            "  \" Skipping tag %s\" % (size, len(data), tag))\n",
            "/usr/local/lib/python3.6/dist-packages/PIL/TiffImagePlugin.py:725: UserWarning: Possibly corrupt EXIF data.  Expecting to read 3300917248 bytes but only got 0. Skipping tag 7\n",
            "  \" Skipping tag %s\" % (size, len(data), tag))\n",
            "/usr/local/lib/python3.6/dist-packages/PIL/TiffImagePlugin.py:725: UserWarning: Possibly corrupt EXIF data.  Expecting to read 196867 bytes but only got 6833. Skipping tag 0\n",
            "  \" Skipping tag %s\" % (size, len(data), tag))\n",
            "/usr/local/lib/python3.6/dist-packages/PIL/TiffImagePlugin.py:742: UserWarning: Corrupt EXIF data.  Expecting to read 12 bytes but only got 8. \n",
            "  warnings.warn(str(msg))\n"
          ],
          "name": "stderr"
        },
        {
          "output_type": "stream",
          "text": [
            " 67/176 [==========>...................] - ETA: 1:52 - loss: 0.2200 - acc: 0.9039"
          ],
          "name": "stdout"
        },
        {
          "output_type": "stream",
          "text": [
            "/usr/local/lib/python3.6/dist-packages/PIL/TiffImagePlugin.py:725: UserWarning: Possibly corrupt EXIF data.  Expecting to read 6553600 bytes but only got 0. Skipping tag 49\n",
            "  \" Skipping tag %s\" % (size, len(data), tag))\n",
            "/usr/local/lib/python3.6/dist-packages/PIL/TiffImagePlugin.py:725: UserWarning: Possibly corrupt EXIF data.  Expecting to read 1050744 bytes but only got 4951. Skipping tag 51\n",
            "  \" Skipping tag %s\" % (size, len(data), tag))\n",
            "/usr/local/lib/python3.6/dist-packages/PIL/TiffImagePlugin.py:725: UserWarning: Possibly corrupt EXIF data.  Expecting to read 293339136 bytes but only got 0. Skipping tag 5\n",
            "  \" Skipping tag %s\" % (size, len(data), tag))\n",
            "/usr/local/lib/python3.6/dist-packages/PIL/TiffImagePlugin.py:725: UserWarning: Possibly corrupt EXIF data.  Expecting to read 293863424 bytes but only got 0. Skipping tag 5\n",
            "  \" Skipping tag %s\" % (size, len(data), tag))\n",
            "/usr/local/lib/python3.6/dist-packages/PIL/TiffImagePlugin.py:725: UserWarning: Possibly corrupt EXIF data.  Expecting to read 3368026112 bytes but only got 0. Skipping tag 7\n",
            "  \" Skipping tag %s\" % (size, len(data), tag))\n",
            "/usr/local/lib/python3.6/dist-packages/PIL/TiffImagePlugin.py:725: UserWarning: Possibly corrupt EXIF data.  Expecting to read 134479872 bytes but only got 0. Skipping tag 7\n",
            "  \" Skipping tag %s\" % (size, len(data), tag))\n",
            "/usr/local/lib/python3.6/dist-packages/PIL/TiffImagePlugin.py:725: UserWarning: Possibly corrupt EXIF data.  Expecting to read 295698432 bytes but only got 0. Skipping tag 10\n",
            "  \" Skipping tag %s\" % (size, len(data), tag))\n",
            "/usr/local/lib/python3.6/dist-packages/PIL/TiffImagePlugin.py:725: UserWarning: Possibly corrupt EXIF data.  Expecting to read 296222720 bytes but only got 0. Skipping tag 5\n",
            "  \" Skipping tag %s\" % (size, len(data), tag))\n",
            "/usr/local/lib/python3.6/dist-packages/PIL/TiffImagePlugin.py:725: UserWarning: Possibly corrupt EXIF data.  Expecting to read 14745600 bytes but only got 0. Skipping tag 4\n",
            "  \" Skipping tag %s\" % (size, len(data), tag))\n",
            "/usr/local/lib/python3.6/dist-packages/PIL/TiffImagePlugin.py:725: UserWarning: Possibly corrupt EXIF data.  Expecting to read 25624576 bytes but only got 0. Skipping tag 4\n",
            "  \" Skipping tag %s\" % (size, len(data), tag))\n",
            "/usr/local/lib/python3.6/dist-packages/PIL/TiffImagePlugin.py:725: UserWarning: Possibly corrupt EXIF data.  Expecting to read 317718528 bytes but only got 4956. Skipping tag 4\n",
            "  \" Skipping tag %s\" % (size, len(data), tag))\n",
            "/usr/local/lib/python3.6/dist-packages/PIL/TiffImagePlugin.py:725: UserWarning: Possibly corrupt EXIF data.  Expecting to read 131073 bytes but only got 4952. Skipping tag 0\n",
            "  \" Skipping tag %s\" % (size, len(data), tag))\n",
            "/usr/local/lib/python3.6/dist-packages/PIL/TiffImagePlugin.py:725: UserWarning: Possibly corrupt EXIF data.  Expecting to read 393216 bytes but only got 0. Skipping tag 3\n",
            "  \" Skipping tag %s\" % (size, len(data), tag))\n",
            "/usr/local/lib/python3.6/dist-packages/PIL/TiffImagePlugin.py:725: UserWarning: Possibly corrupt EXIF data.  Expecting to read 287178752 bytes but only got 0. Skipping tag 5\n",
            "  \" Skipping tag %s\" % (size, len(data), tag))\n",
            "/usr/local/lib/python3.6/dist-packages/PIL/TiffImagePlugin.py:725: UserWarning: Possibly corrupt EXIF data.  Expecting to read 287703040 bytes but only got 0. Skipping tag 5\n",
            "  \" Skipping tag %s\" % (size, len(data), tag))\n",
            "/usr/local/lib/python3.6/dist-packages/PIL/TiffImagePlugin.py:725: UserWarning: Possibly corrupt EXIF data.  Expecting to read 524288 bytes but only got 0. Skipping tag 4\n",
            "  \" Skipping tag %s\" % (size, len(data), tag))\n",
            "/usr/local/lib/python3.6/dist-packages/PIL/TiffImagePlugin.py:725: UserWarning: Possibly corrupt EXIF data.  Expecting to read 286654464 bytes but only got 4956. Skipping tag 4\n",
            "  \" Skipping tag %s\" % (size, len(data), tag))\n",
            "/usr/local/lib/python3.6/dist-packages/PIL/TiffImagePlugin.py:742: UserWarning: Corrupt EXIF data.  Expecting to read 12 bytes but only got 2. \n",
            "  warnings.warn(str(msg))\n"
          ],
          "name": "stderr"
        },
        {
          "output_type": "stream",
          "text": [
            " 99/176 [===============>..............] - ETA: 1:20 - loss: 0.2201 - acc: 0.9061"
          ],
          "name": "stdout"
        },
        {
          "output_type": "stream",
          "text": [
            "/usr/local/lib/python3.6/dist-packages/PIL/TiffImagePlugin.py:725: UserWarning: Possibly corrupt EXIF data.  Expecting to read 209715200 bytes but only got 0. Skipping tag 48\n",
            "  \" Skipping tag %s\" % (size, len(data), tag))\n",
            "/usr/local/lib/python3.6/dist-packages/PIL/TiffImagePlugin.py:725: UserWarning: Possibly corrupt EXIF data.  Expecting to read 52428800 bytes but only got 0. Skipping tag 0\n",
            "  \" Skipping tag %s\" % (size, len(data), tag))\n",
            "/usr/local/lib/python3.6/dist-packages/PIL/TiffImagePlugin.py:725: UserWarning: Possibly corrupt EXIF data.  Expecting to read 6468665344 bytes but only got 0. Skipping tag 0\n",
            "  \" Skipping tag %s\" % (size, len(data), tag))\n",
            "/usr/local/lib/python3.6/dist-packages/PIL/TiffImagePlugin.py:725: UserWarning: Possibly corrupt EXIF data.  Expecting to read 1050744 bytes but only got 7027. Skipping tag 48\n",
            "  \" Skipping tag %s\" % (size, len(data), tag))\n",
            "/usr/local/lib/python3.6/dist-packages/PIL/TiffImagePlugin.py:725: UserWarning: Possibly corrupt EXIF data.  Expecting to read 422313984 bytes but only got 0. Skipping tag 5\n",
            "  \" Skipping tag %s\" % (size, len(data), tag))\n",
            "/usr/local/lib/python3.6/dist-packages/PIL/TiffImagePlugin.py:725: UserWarning: Possibly corrupt EXIF data.  Expecting to read 422838272 bytes but only got 0. Skipping tag 5\n",
            "  \" Skipping tag %s\" % (size, len(data), tag))\n",
            "/usr/local/lib/python3.6/dist-packages/PIL/TiffImagePlugin.py:725: UserWarning: Possibly corrupt EXIF data.  Expecting to read 428867584 bytes but only got 0. Skipping tag 10\n",
            "  \" Skipping tag %s\" % (size, len(data), tag))\n",
            "/usr/local/lib/python3.6/dist-packages/PIL/TiffImagePlugin.py:725: UserWarning: Possibly corrupt EXIF data.  Expecting to read 429391872 bytes but only got 0. Skipping tag 5\n",
            "  \" Skipping tag %s\" % (size, len(data), tag))\n",
            "/usr/local/lib/python3.6/dist-packages/PIL/TiffImagePlugin.py:725: UserWarning: Possibly corrupt EXIF data.  Expecting to read 2031616 bytes but only got 0. Skipping tag 3\n",
            "  \" Skipping tag %s\" % (size, len(data), tag))\n",
            "/usr/local/lib/python3.6/dist-packages/PIL/TiffImagePlugin.py:725: UserWarning: Possibly corrupt EXIF data.  Expecting to read 429916160 bytes but only got 0. Skipping tag 5\n",
            "  \" Skipping tag %s\" % (size, len(data), tag))\n",
            "/usr/local/lib/python3.6/dist-packages/PIL/TiffImagePlugin.py:725: UserWarning: Possibly corrupt EXIF data.  Expecting to read 21299200 bytes but only got 0. Skipping tag 4\n",
            "  \" Skipping tag %s\" % (size, len(data), tag))\n",
            "/usr/local/lib/python3.6/dist-packages/PIL/TiffImagePlugin.py:725: UserWarning: Possibly corrupt EXIF data.  Expecting to read 24313856 bytes but only got 0. Skipping tag 4\n",
            "  \" Skipping tag %s\" % (size, len(data), tag))\n",
            "/usr/local/lib/python3.6/dist-packages/PIL/TiffImagePlugin.py:725: UserWarning: Possibly corrupt EXIF data.  Expecting to read 453771264 bytes but only got 7032. Skipping tag 4\n",
            "  \" Skipping tag %s\" % (size, len(data), tag))\n",
            "/usr/local/lib/python3.6/dist-packages/PIL/TiffImagePlugin.py:725: UserWarning: Possibly corrupt EXIF data.  Expecting to read 131073 bytes but only got 7028. Skipping tag 0\n",
            "  \" Skipping tag %s\" % (size, len(data), tag))\n",
            "/usr/local/lib/python3.6/dist-packages/PIL/TiffImagePlugin.py:725: UserWarning: Possibly corrupt EXIF data.  Expecting to read 416415744 bytes but only got 0. Skipping tag 5\n",
            "  \" Skipping tag %s\" % (size, len(data), tag))\n",
            "/usr/local/lib/python3.6/dist-packages/PIL/TiffImagePlugin.py:725: UserWarning: Possibly corrupt EXIF data.  Expecting to read 416940032 bytes but only got 0. Skipping tag 5\n",
            "  \" Skipping tag %s\" % (size, len(data), tag))\n",
            "/usr/local/lib/python3.6/dist-packages/PIL/TiffImagePlugin.py:725: UserWarning: Possibly corrupt EXIF data.  Expecting to read 415825920 bytes but only got 7032. Skipping tag 4\n",
            "  \" Skipping tag %s\" % (size, len(data), tag))\n"
          ],
          "name": "stderr"
        },
        {
          "output_type": "stream",
          "text": [
            "105/176 [================>.............] - ETA: 1:13 - loss: 0.2195 - acc: 0.9072"
          ],
          "name": "stdout"
        },
        {
          "output_type": "stream",
          "text": [
            "/usr/local/lib/python3.6/dist-packages/PIL/TiffImagePlugin.py:725: UserWarning: Possibly corrupt EXIF data.  Expecting to read 307363840 bytes but only got 0. Skipping tag 5\n",
            "  \" Skipping tag %s\" % (size, len(data), tag))\n",
            "/usr/local/lib/python3.6/dist-packages/PIL/TiffImagePlugin.py:725: UserWarning: Possibly corrupt EXIF data.  Expecting to read 307888128 bytes but only got 0. Skipping tag 5\n",
            "  \" Skipping tag %s\" % (size, len(data), tag))\n",
            "/usr/local/lib/python3.6/dist-packages/PIL/TiffImagePlugin.py:725: UserWarning: Possibly corrupt EXIF data.  Expecting to read 328728576 bytes but only got 0. Skipping tag 4\n",
            "  \" Skipping tag %s\" % (size, len(data), tag))\n",
            "/usr/local/lib/python3.6/dist-packages/PIL/TiffImagePlugin.py:725: UserWarning: Possibly corrupt EXIF data.  Expecting to read 1385474 bytes but only got 5357. Skipping tag 513\n",
            "  \" Skipping tag %s\" % (size, len(data), tag))\n",
            "/usr/local/lib/python3.6/dist-packages/PIL/TiffImagePlugin.py:725: UserWarning: Possibly corrupt EXIF data.  Expecting to read 196867 bytes but only got 5357. Skipping tag 0\n",
            "  \" Skipping tag %s\" % (size, len(data), tag))\n"
          ],
          "name": "stderr"
        },
        {
          "output_type": "stream",
          "text": [
            "128/176 [====================>.........] - ETA: 49s - loss: 0.2215 - acc: 0.9066"
          ],
          "name": "stdout"
        },
        {
          "output_type": "stream",
          "text": [
            "/usr/local/lib/python3.6/dist-packages/PIL/TiffImagePlugin.py:725: UserWarning: Possibly corrupt EXIF data.  Expecting to read 18350080 bytes but only got 0. Skipping tag 0\n",
            "  \" Skipping tag %s\" % (size, len(data), tag))\n",
            "/usr/local/lib/python3.6/dist-packages/PIL/TiffImagePlugin.py:742: UserWarning: Corrupt EXIF data.  Expecting to read 12 bytes but only got 6. \n",
            "  warnings.warn(str(msg))\n"
          ],
          "name": "stderr"
        },
        {
          "output_type": "stream",
          "text": [
            "175/176 [============================>.] - ETA: 1s - loss: 0.2221 - acc: 0.9057Epoch 1/100\n",
            "176/176 [==============================] - 197s 1s/step - loss: 0.2227 - acc: 0.9054 - val_loss: 0.4012 - val_acc: 0.8712\n",
            "Epoch 2/100\n",
            "175/176 [============================>.] - ETA: 1s - loss: 0.2267 - acc: 0.9052Epoch 1/100\n",
            "176/176 [==============================] - 190s 1s/step - loss: 0.2271 - acc: 0.9048 - val_loss: 0.1674 - val_acc: 0.9288\n",
            "Epoch 3/100\n",
            "175/176 [============================>.] - ETA: 1s - loss: 0.2261 - acc: 0.9047Epoch 1/100\n",
            "176/176 [==============================] - 190s 1s/step - loss: 0.2259 - acc: 0.9048 - val_loss: 0.1690 - val_acc: 0.9284\n",
            "Epoch 4/100\n",
            "175/176 [============================>.] - ETA: 1s - loss: 0.2230 - acc: 0.9090Epoch 1/100\n",
            "176/176 [==============================] - 192s 1s/step - loss: 0.2234 - acc: 0.9087 - val_loss: 0.1698 - val_acc: 0.9308\n",
            "Epoch 5/100\n",
            "175/176 [============================>.] - ETA: 1s - loss: 0.2378 - acc: 0.8984Epoch 1/100\n",
            "176/176 [==============================] - 191s 1s/step - loss: 0.2371 - acc: 0.8986 - val_loss: 0.1538 - val_acc: 0.9360\n",
            "Epoch 6/100\n",
            "175/176 [============================>.] - ETA: 1s - loss: 0.2227 - acc: 0.9051Epoch 1/100\n",
            "176/176 [==============================] - 191s 1s/step - loss: 0.2224 - acc: 0.9052 - val_loss: 0.1649 - val_acc: 0.9352\n",
            "Epoch 7/100\n",
            "175/176 [============================>.] - ETA: 1s - loss: 0.2356 - acc: 0.9008Epoch 1/100\n",
            "176/176 [==============================] - 192s 1s/step - loss: 0.2366 - acc: 0.9004 - val_loss: 0.2131 - val_acc: 0.9004\n",
            "Epoch 8/100\n",
            "175/176 [============================>.] - ETA: 1s - loss: 0.2288 - acc: 0.9042Epoch 1/100\n",
            "176/176 [==============================] - 192s 1s/step - loss: 0.2286 - acc: 0.9042 - val_loss: 0.1841 - val_acc: 0.9260\n",
            "Epoch 9/100\n",
            "175/176 [============================>.] - ETA: 1s - loss: 0.2245 - acc: 0.9045Epoch 1/100\n",
            "176/176 [==============================] - 192s 1s/step - loss: 0.2242 - acc: 0.9045 - val_loss: 0.1691 - val_acc: 0.9296\n",
            "Epoch 10/100\n",
            "175/176 [============================>.] - ETA: 1s - loss: 0.2285 - acc: 0.9046Epoch 1/100\n",
            "176/176 [==============================] - 191s 1s/step - loss: 0.2281 - acc: 0.9049 - val_loss: 0.3557 - val_acc: 0.8844\n",
            "Epoch 11/100\n",
            "175/176 [============================>.] - ETA: 1s - loss: 0.2349 - acc: 0.8980Epoch 1/100\n",
            "176/176 [==============================] - 192s 1s/step - loss: 0.2343 - acc: 0.8984 - val_loss: 0.1865 - val_acc: 0.9392\n",
            "Epoch 12/100\n",
            "175/176 [============================>.] - ETA: 1s - loss: 0.2279 - acc: 0.9023Epoch 1/100\n",
            "176/176 [==============================] - 192s 1s/step - loss: 0.2276 - acc: 0.9024 - val_loss: 0.1535 - val_acc: 0.9388\n",
            "Epoch 13/100\n",
            "175/176 [============================>.] - ETA: 1s - loss: 0.2326 - acc: 0.9003Epoch 1/100\n",
            "176/176 [==============================] - 193s 1s/step - loss: 0.2325 - acc: 0.9004 - val_loss: 0.1827 - val_acc: 0.9288\n",
            "Epoch 14/100\n",
            "175/176 [============================>.] - ETA: 1s - loss: 0.2312 - acc: 0.9010Epoch 1/100\n",
            "176/176 [==============================] - 192s 1s/step - loss: 0.2312 - acc: 0.9009 - val_loss: 0.1856 - val_acc: 0.9180\n",
            "Epoch 15/100\n",
            "175/176 [============================>.] - ETA: 1s - loss: 0.2322 - acc: 0.9028Epoch 1/100\n",
            "176/176 [==============================] - 191s 1s/step - loss: 0.2320 - acc: 0.9030 - val_loss: 0.1719 - val_acc: 0.9348\n",
            "Epoch 16/100\n",
            "175/176 [============================>.] - ETA: 1s - loss: 0.2294 - acc: 0.9056Epoch 1/100\n",
            "176/176 [==============================] - 192s 1s/step - loss: 0.2293 - acc: 0.9057 - val_loss: 0.1518 - val_acc: 0.9388\n",
            "Epoch 17/100\n",
            "175/176 [============================>.] - ETA: 1s - loss: 0.2200 - acc: 0.9067Epoch 1/100\n",
            "176/176 [==============================] - 193s 1s/step - loss: 0.2205 - acc: 0.9066 - val_loss: 0.2461 - val_acc: 0.8908\n",
            "Epoch 18/100\n",
            "175/176 [============================>.] - ETA: 1s - loss: 0.2285 - acc: 0.9013Epoch 1/100\n",
            "176/176 [==============================] - 192s 1s/step - loss: 0.2278 - acc: 0.9015 - val_loss: 0.1561 - val_acc: 0.9436\n",
            "Epoch 19/100\n",
            "175/176 [============================>.] - ETA: 1s - loss: 0.2302 - acc: 0.9074Epoch 1/100\n",
            "176/176 [==============================] - 193s 1s/step - loss: 0.2306 - acc: 0.9072 - val_loss: 0.2933 - val_acc: 0.8928\n",
            "Epoch 20/100\n",
            "175/176 [============================>.] - ETA: 1s - loss: 0.2269 - acc: 0.9025Epoch 1/100\n",
            "176/176 [==============================] - 192s 1s/step - loss: 0.2268 - acc: 0.9027 - val_loss: 0.2511 - val_acc: 0.9072\n",
            "Epoch 21/100\n",
            "175/176 [============================>.] - ETA: 1s - loss: 0.2303 - acc: 0.9030Epoch 1/100\n",
            "176/176 [==============================] - 192s 1s/step - loss: 0.2301 - acc: 0.9031 - val_loss: 0.1437 - val_acc: 0.9440\n",
            "Epoch 22/100\n",
            "175/176 [============================>.] - ETA: 1s - loss: 0.2279 - acc: 0.9024Epoch 1/100\n",
            "176/176 [==============================] - 192s 1s/step - loss: 0.2274 - acc: 0.9026 - val_loss: 0.1575 - val_acc: 0.9428\n",
            "Epoch 23/100\n",
            "175/176 [============================>.] - ETA: 1s - loss: 0.2266 - acc: 0.9019Epoch 1/100\n",
            "176/176 [==============================] - 191s 1s/step - loss: 0.2262 - acc: 0.9022 - val_loss: 0.1670 - val_acc: 0.9324\n",
            "Epoch 24/100\n",
            "175/176 [============================>.] - ETA: 1s - loss: 0.2205 - acc: 0.9048Epoch 1/100\n",
            "176/176 [==============================] - 192s 1s/step - loss: 0.2209 - acc: 0.9044 - val_loss: 0.1641 - val_acc: 0.9368\n",
            "Epoch 25/100\n",
            "175/176 [============================>.] - ETA: 1s - loss: 0.2335 - acc: 0.8991Epoch 1/100\n",
            "176/176 [==============================] - 192s 1s/step - loss: 0.2330 - acc: 0.8993 - val_loss: 0.2028 - val_acc: 0.9272\n",
            "Epoch 26/100\n",
            "175/176 [============================>.] - ETA: 1s - loss: 0.2318 - acc: 0.9047Epoch 1/100\n",
            "176/176 [==============================] - 192s 1s/step - loss: 0.2316 - acc: 0.9049 - val_loss: 0.1719 - val_acc: 0.9384\n",
            "Epoch 27/100\n",
            "175/176 [============================>.] - ETA: 1s - loss: 0.2323 - acc: 0.8994Epoch 1/100\n",
            "176/176 [==============================] - 192s 1s/step - loss: 0.2328 - acc: 0.8990 - val_loss: 0.1953 - val_acc: 0.9128\n",
            "Epoch 28/100\n",
            "175/176 [============================>.] - ETA: 1s - loss: 0.2255 - acc: 0.9039Epoch 1/100\n",
            "176/176 [==============================] - 191s 1s/step - loss: 0.2275 - acc: 0.9031 - val_loss: 0.3549 - val_acc: 0.8124\n",
            "Epoch 29/100\n",
            "175/176 [============================>.] - ETA: 1s - loss: 0.2287 - acc: 0.9030Epoch 1/100\n",
            "176/176 [==============================] - 191s 1s/step - loss: 0.2288 - acc: 0.9030 - val_loss: 0.1712 - val_acc: 0.9304\n",
            "Epoch 30/100\n",
            "175/176 [============================>.] - ETA: 1s - loss: 0.2547 - acc: 0.9044Epoch 1/100\n",
            "176/176 [==============================] - 191s 1s/step - loss: 0.2542 - acc: 0.9045 - val_loss: 0.1753 - val_acc: 0.9364\n",
            "Epoch 31/100\n",
            "175/176 [============================>.] - ETA: 1s - loss: 0.2251 - acc: 0.9035Epoch 1/100\n",
            "176/176 [==============================] - 191s 1s/step - loss: 0.2250 - acc: 0.9036 - val_loss: 0.1549 - val_acc: 0.9412\n",
            "Epoch 32/100\n",
            "175/176 [============================>.] - ETA: 1s - loss: 0.2233 - acc: 0.9074Epoch 1/100\n",
            "176/176 [==============================] - 190s 1s/step - loss: 0.2236 - acc: 0.9074 - val_loss: 0.1440 - val_acc: 0.9428\n",
            "Epoch 33/100\n",
            "175/176 [============================>.] - ETA: 0s - loss: 0.2283 - acc: 0.9062Epoch 1/100\n",
            "176/176 [==============================] - 189s 1s/step - loss: 0.2278 - acc: 0.9065 - val_loss: 0.1535 - val_acc: 0.9384\n",
            "Epoch 34/100\n",
            "175/176 [============================>.] - ETA: 1s - loss: 0.2244 - acc: 0.9046Epoch 1/100\n",
            "176/176 [==============================] - 192s 1s/step - loss: 0.2241 - acc: 0.9047 - val_loss: 0.2078 - val_acc: 0.9368\n",
            "Epoch 35/100\n",
            "175/176 [============================>.] - ETA: 1s - loss: 0.2228 - acc: 0.9059Epoch 1/100\n",
            "176/176 [==============================] - 190s 1s/step - loss: 0.2226 - acc: 0.9060 - val_loss: 0.1585 - val_acc: 0.9404\n",
            "Epoch 36/100\n",
            "175/176 [============================>.] - ETA: 1s - loss: 0.2246 - acc: 0.9030Epoch 1/100\n",
            "176/176 [==============================] - 189s 1s/step - loss: 0.2246 - acc: 0.9030 - val_loss: 0.2792 - val_acc: 0.9028\n",
            "Epoch 37/100\n",
            "175/176 [============================>.] - ETA: 0s - loss: 0.2176 - acc: 0.9072Epoch 1/100\n",
            "176/176 [==============================] - 189s 1s/step - loss: 0.2171 - acc: 0.9074 - val_loss: 0.1569 - val_acc: 0.9424\n",
            "Epoch 38/100\n",
            "175/176 [============================>.] - ETA: 1s - loss: 0.2295 - acc: 0.9019Epoch 1/100\n",
            "176/176 [==============================] - 190s 1s/step - loss: 0.2297 - acc: 0.9019 - val_loss: 0.1915 - val_acc: 0.9280\n",
            "Epoch 39/100\n",
            "175/176 [============================>.] - ETA: 0s - loss: 0.2211 - acc: 0.9064Epoch 1/100\n",
            "176/176 [==============================] - 189s 1s/step - loss: 0.2209 - acc: 0.9066 - val_loss: 0.1922 - val_acc: 0.9212\n",
            "Epoch 40/100\n",
            "175/176 [============================>.] - ETA: 0s - loss: 0.2163 - acc: 0.9098Epoch 1/100\n",
            "176/176 [==============================] - 187s 1s/step - loss: 0.2161 - acc: 0.9100 - val_loss: 0.1658 - val_acc: 0.9288\n",
            "Epoch 41/100\n",
            "175/176 [============================>.] - ETA: 0s - loss: 0.2260 - acc: 0.9074Epoch 1/100\n",
            "176/176 [==============================] - 187s 1s/step - loss: 0.2256 - acc: 0.9076 - val_loss: 0.1668 - val_acc: 0.9348\n",
            "Epoch 42/100\n",
            "175/176 [============================>.] - ETA: 0s - loss: 0.2272 - acc: 0.9049Epoch 1/100\n",
            "176/176 [==============================] - 187s 1s/step - loss: 0.2278 - acc: 0.9044 - val_loss: 0.1680 - val_acc: 0.9416\n",
            "Epoch 43/100\n",
            "175/176 [============================>.] - ETA: 0s - loss: 0.2104 - acc: 0.9119Epoch 1/100\n",
            "176/176 [==============================] - 187s 1s/step - loss: 0.2109 - acc: 0.9116 - val_loss: 0.2004 - val_acc: 0.9220\n",
            "Epoch 44/100\n",
            "175/176 [============================>.] - ETA: 0s - loss: 0.2214 - acc: 0.9085Epoch 1/100\n",
            "176/176 [==============================] - 188s 1s/step - loss: 0.2213 - acc: 0.9086 - val_loss: 0.1540 - val_acc: 0.9372\n",
            "Epoch 45/100\n",
            "175/176 [============================>.] - ETA: 0s - loss: 0.2127 - acc: 0.9099Epoch 1/100\n",
            "176/176 [==============================] - 188s 1s/step - loss: 0.2127 - acc: 0.9099 - val_loss: 0.1551 - val_acc: 0.9376\n",
            "Epoch 46/100\n",
            "175/176 [============================>.] - ETA: 0s - loss: 0.2203 - acc: 0.9056Epoch 1/100\n",
            "176/176 [==============================] - 189s 1s/step - loss: 0.2205 - acc: 0.9055 - val_loss: 0.1521 - val_acc: 0.9396\n",
            "Epoch 47/100\n",
            "175/176 [============================>.] - ETA: 0s - loss: 0.2215 - acc: 0.9068Epoch 1/100\n",
            "176/176 [==============================] - 188s 1s/step - loss: 0.2223 - acc: 0.9066 - val_loss: 0.2257 - val_acc: 0.8988\n",
            "Epoch 48/100\n",
            "175/176 [============================>.] - ETA: 0s - loss: 0.2240 - acc: 0.9069Epoch 1/100\n",
            "176/176 [==============================] - 188s 1s/step - loss: 0.2241 - acc: 0.9068 - val_loss: 0.1447 - val_acc: 0.9424\n",
            "Epoch 49/100\n",
            "175/176 [============================>.] - ETA: 0s - loss: 0.2232 - acc: 0.9068Epoch 1/100\n",
            "176/176 [==============================] - 188s 1s/step - loss: 0.2233 - acc: 0.9067 - val_loss: 0.2791 - val_acc: 0.9004\n",
            "Epoch 50/100\n",
            "175/176 [============================>.] - ETA: 0s - loss: 0.2241 - acc: 0.9055Epoch 1/100\n",
            "176/176 [==============================] - 189s 1s/step - loss: 0.2241 - acc: 0.9055 - val_loss: 0.1242 - val_acc: 0.9480\n",
            "Epoch 51/100\n",
            "175/176 [============================>.] - ETA: 0s - loss: 0.2201 - acc: 0.9078Epoch 1/100\n",
            "176/176 [==============================] - 188s 1s/step - loss: 0.2204 - acc: 0.9076 - val_loss: 0.3160 - val_acc: 0.8692\n",
            "Epoch 52/100\n",
            "175/176 [============================>.] - ETA: 0s - loss: 0.2177 - acc: 0.9084Epoch 1/100\n",
            "176/176 [==============================] - 188s 1s/step - loss: 0.2181 - acc: 0.9082 - val_loss: 0.2645 - val_acc: 0.8848\n",
            "Epoch 53/100\n",
            "175/176 [============================>.] - ETA: 0s - loss: 0.2148 - acc: 0.9078Epoch 1/100\n",
            "176/176 [==============================] - 189s 1s/step - loss: 0.2143 - acc: 0.9080 - val_loss: 0.1725 - val_acc: 0.9372\n",
            "Epoch 54/100\n",
            "175/176 [============================>.] - ETA: 0s - loss: 0.2185 - acc: 0.9105Epoch 1/100\n",
            "176/176 [==============================] - 188s 1s/step - loss: 0.2190 - acc: 0.9102 - val_loss: 0.2785 - val_acc: 0.8844\n",
            "Epoch 55/100\n",
            "175/176 [============================>.] - ETA: 0s - loss: 0.2223 - acc: 0.9069Epoch 1/100\n",
            "176/176 [==============================] - 188s 1s/step - loss: 0.2233 - acc: 0.9069 - val_loss: 0.2033 - val_acc: 0.9176\n",
            "Epoch 56/100\n",
            "175/176 [============================>.] - ETA: 0s - loss: 0.2190 - acc: 0.9072Epoch 1/100\n",
            "176/176 [==============================] - 188s 1s/step - loss: 0.2201 - acc: 0.9065 - val_loss: 0.3434 - val_acc: 0.8952\n",
            "Epoch 57/100\n",
            "175/176 [============================>.] - ETA: 0s - loss: 0.2173 - acc: 0.9106Epoch 1/100\n",
            "176/176 [==============================] - 189s 1s/step - loss: 0.2181 - acc: 0.9099 - val_loss: 0.1872 - val_acc: 0.9244\n",
            "Epoch 58/100\n",
            "175/176 [============================>.] - ETA: 1s - loss: 0.2268 - acc: 0.9057Epoch 1/100\n",
            "176/176 [==============================] - 190s 1s/step - loss: 0.2269 - acc: 0.9056 - val_loss: 0.1531 - val_acc: 0.9420\n",
            "Epoch 59/100\n",
            "175/176 [============================>.] - ETA: 1s - loss: 0.2146 - acc: 0.9134Epoch 1/100\n",
            "176/176 [==============================] - 190s 1s/step - loss: 0.2144 - acc: 0.9135 - val_loss: 0.1840 - val_acc: 0.9332\n",
            "Epoch 60/100\n",
            "175/176 [============================>.] - ETA: 1s - loss: 0.2149 - acc: 0.9106Epoch 1/100\n",
            "176/176 [==============================] - 191s 1s/step - loss: 0.2150 - acc: 0.9104 - val_loss: 0.1429 - val_acc: 0.9436\n",
            "Epoch 61/100\n",
            "175/176 [============================>.] - ETA: 1s - loss: 0.2114 - acc: 0.9114Epoch 1/100\n",
            "176/176 [==============================] - 191s 1s/step - loss: 0.2111 - acc: 0.9114 - val_loss: 0.1543 - val_acc: 0.9424\n",
            "Epoch 62/100\n",
            "175/176 [============================>.] - ETA: 1s - loss: 0.2189 - acc: 0.9080Epoch 1/100\n",
            "176/176 [==============================] - 191s 1s/step - loss: 0.2190 - acc: 0.9081 - val_loss: 0.1494 - val_acc: 0.9360\n",
            "Epoch 63/100\n",
            "175/176 [============================>.] - ETA: 1s - loss: 0.2189 - acc: 0.9084Epoch 1/100\n",
            "176/176 [==============================] - 191s 1s/step - loss: 0.2202 - acc: 0.9077 - val_loss: 0.3039 - val_acc: 0.8816\n",
            "Epoch 64/100\n",
            "175/176 [============================>.] - ETA: 1s - loss: 0.2160 - acc: 0.9099Epoch 1/100\n",
            "176/176 [==============================] - 190s 1s/step - loss: 0.2156 - acc: 0.9102 - val_loss: 0.1620 - val_acc: 0.9380\n",
            "Epoch 65/100\n",
            "175/176 [============================>.] - ETA: 1s - loss: 0.2138 - acc: 0.9093Epoch 1/100\n",
            "176/176 [==============================] - 190s 1s/step - loss: 0.2138 - acc: 0.9093 - val_loss: 0.1592 - val_acc: 0.9324\n",
            "Epoch 66/100\n",
            "175/176 [============================>.] - ETA: 1s - loss: 0.2132 - acc: 0.9115Epoch 1/100\n",
            "176/176 [==============================] - 191s 1s/step - loss: 0.2136 - acc: 0.9114 - val_loss: 0.1475 - val_acc: 0.9444\n",
            "Epoch 67/100\n",
            "175/176 [============================>.] - ETA: 1s - loss: 0.2144 - acc: 0.9107Epoch 1/100\n",
            "176/176 [==============================] - 191s 1s/step - loss: 0.2146 - acc: 0.9107 - val_loss: 0.1851 - val_acc: 0.9240\n",
            "Epoch 68/100\n",
            "175/176 [============================>.] - ETA: 0s - loss: 0.2122 - acc: 0.9123Epoch 1/100\n",
            "176/176 [==============================] - 188s 1s/step - loss: 0.2124 - acc: 0.9121 - val_loss: 0.1654 - val_acc: 0.9304\n",
            "Epoch 69/100\n",
            "175/176 [============================>.] - ETA: 0s - loss: 0.2078 - acc: 0.9143Epoch 1/100\n",
            "176/176 [==============================] - 188s 1s/step - loss: 0.2076 - acc: 0.9144 - val_loss: 0.1714 - val_acc: 0.9328\n",
            "Epoch 70/100\n",
            "175/176 [============================>.] - ETA: 1s - loss: 0.2085 - acc: 0.9139Epoch 1/100\n",
            "176/176 [==============================] - 190s 1s/step - loss: 0.2083 - acc: 0.9141 - val_loss: 0.2285 - val_acc: 0.9384\n",
            "Epoch 71/100\n",
            "175/176 [============================>.] - ETA: 1s - loss: 0.2104 - acc: 0.9131Epoch 1/100\n",
            "176/176 [==============================] - 190s 1s/step - loss: 0.2109 - acc: 0.9128 - val_loss: 0.1909 - val_acc: 0.9208\n",
            "Epoch 72/100\n",
            "175/176 [============================>.] - ETA: 1s - loss: 0.2127 - acc: 0.9114Epoch 1/100\n",
            "176/176 [==============================] - 191s 1s/step - loss: 0.2122 - acc: 0.9117 - val_loss: 0.1488 - val_acc: 0.9444\n",
            "Epoch 73/100\n",
            "175/176 [============================>.] - ETA: 1s - loss: 0.2067 - acc: 0.9116Epoch 1/100\n",
            "176/176 [==============================] - 191s 1s/step - loss: 0.2070 - acc: 0.9115 - val_loss: 0.1620 - val_acc: 0.9396\n",
            "Epoch 74/100\n",
            "175/176 [============================>.] - ETA: 1s - loss: 0.2051 - acc: 0.9158Epoch 1/100\n",
            "176/176 [==============================] - 191s 1s/step - loss: 0.2052 - acc: 0.9158 - val_loss: 0.2306 - val_acc: 0.9136\n",
            "Epoch 75/100\n",
            "175/176 [============================>.] - ETA: 1s - loss: 0.2220 - acc: 0.9062Epoch 1/100\n",
            "176/176 [==============================] - 191s 1s/step - loss: 0.2215 - acc: 0.9064 - val_loss: 0.1532 - val_acc: 0.9416\n",
            "Epoch 76/100\n",
            "175/176 [============================>.] - ETA: 1s - loss: 0.2069 - acc: 0.9127Epoch 1/100\n",
            "176/176 [==============================] - 189s 1s/step - loss: 0.2068 - acc: 0.9126 - val_loss: 0.1534 - val_acc: 0.9424\n",
            "Epoch 77/100\n",
            "175/176 [============================>.] - ETA: 1s - loss: 0.2176 - acc: 0.9097Epoch 1/100\n",
            "176/176 [==============================] - 190s 1s/step - loss: 0.2176 - acc: 0.9098 - val_loss: 0.1433 - val_acc: 0.9480\n",
            "Epoch 78/100\n",
            "175/176 [============================>.] - ETA: 1s - loss: 0.3447 - acc: 0.9038Epoch 1/100\n",
            "176/176 [==============================] - 192s 1s/step - loss: 0.3436 - acc: 0.9040 - val_loss: 0.1987 - val_acc: 0.9268\n",
            "Epoch 79/100\n",
            "175/176 [============================>.] - ETA: 1s - loss: 0.2075 - acc: 0.9115Epoch 1/100\n",
            "176/176 [==============================] - 191s 1s/step - loss: 0.2072 - acc: 0.9118 - val_loss: 0.1715 - val_acc: 0.9408\n",
            "Epoch 80/100\n",
            "175/176 [============================>.] - ETA: 1s - loss: 0.2067 - acc: 0.9149Epoch 1/100\n",
            "176/176 [==============================] - 192s 1s/step - loss: 0.2065 - acc: 0.9150 - val_loss: 0.1631 - val_acc: 0.9400\n",
            "Epoch 81/100\n",
            "175/176 [============================>.] - ETA: 1s - loss: 0.2073 - acc: 0.9113Epoch 1/100\n",
            "176/176 [==============================] - 191s 1s/step - loss: 0.2069 - acc: 0.9114 - val_loss: 0.1437 - val_acc: 0.9496\n",
            "Epoch 82/100\n",
            "175/176 [============================>.] - ETA: 0s - loss: 0.2044 - acc: 0.9167Epoch 1/100\n",
            "176/176 [==============================] - 189s 1s/step - loss: 0.2041 - acc: 0.9168 - val_loss: 0.1537 - val_acc: 0.9460\n",
            "Epoch 83/100\n",
            "175/176 [============================>.] - ETA: 0s - loss: 0.2083 - acc: 0.9121Epoch 1/100\n",
            "176/176 [==============================] - 189s 1s/step - loss: 0.2077 - acc: 0.9124 - val_loss: 0.1663 - val_acc: 0.9460\n",
            "Epoch 84/100\n",
            "175/176 [============================>.] - ETA: 0s - loss: 0.2278 - acc: 0.9062Epoch 1/100\n",
            "176/176 [==============================] - 188s 1s/step - loss: 0.2279 - acc: 0.9061 - val_loss: 0.1712 - val_acc: 0.9356\n",
            "Epoch 85/100\n",
            "175/176 [============================>.] - ETA: 0s - loss: 0.2070 - acc: 0.9113Epoch 1/100\n",
            "176/176 [==============================] - 189s 1s/step - loss: 0.2073 - acc: 0.9111 - val_loss: 0.1755 - val_acc: 0.9252\n",
            "Epoch 86/100\n",
            "175/176 [============================>.] - ETA: 0s - loss: 0.2233 - acc: 0.9104Epoch 1/100\n",
            "176/176 [==============================] - 187s 1s/step - loss: 0.2231 - acc: 0.9105 - val_loss: 0.1508 - val_acc: 0.9412\n",
            "Epoch 87/100\n",
            "175/176 [============================>.] - ETA: 0s - loss: 0.2096 - acc: 0.9140Epoch 1/100\n",
            "176/176 [==============================] - 186s 1s/step - loss: 0.2093 - acc: 0.9140 - val_loss: 0.1565 - val_acc: 0.9468\n",
            "Epoch 88/100\n",
            "175/176 [============================>.] - ETA: 0s - loss: 0.2126 - acc: 0.9108Epoch 1/100\n",
            "176/176 [==============================] - 184s 1s/step - loss: 0.2126 - acc: 0.9109 - val_loss: 0.1606 - val_acc: 0.9396\n",
            "Epoch 89/100\n",
            "175/176 [============================>.] - ETA: 0s - loss: 0.2166 - acc: 0.9109Epoch 1/100\n",
            "176/176 [==============================] - 186s 1s/step - loss: 0.2164 - acc: 0.9107 - val_loss: 0.1814 - val_acc: 0.9320\n",
            "Epoch 90/100\n",
            "175/176 [============================>.] - ETA: 0s - loss: 0.2136 - acc: 0.9131Epoch 1/100\n",
            "176/176 [==============================] - 185s 1s/step - loss: 0.2133 - acc: 0.9133 - val_loss: 0.1459 - val_acc: 0.9472\n",
            "Epoch 91/100\n",
            "175/176 [============================>.] - ETA: 0s - loss: 0.2084 - acc: 0.9122Epoch 1/100\n",
            "176/176 [==============================] - 188s 1s/step - loss: 0.2088 - acc: 0.9121 - val_loss: 0.2082 - val_acc: 0.9240\n",
            "Epoch 92/100\n",
            "175/176 [============================>.] - ETA: 1s - loss: 0.2101 - acc: 0.9123Epoch 1/100\n",
            "176/176 [==============================] - 192s 1s/step - loss: 0.2104 - acc: 0.9124 - val_loss: 0.2529 - val_acc: 0.9028\n",
            "Epoch 93/100\n",
            "175/176 [============================>.] - ETA: 0s - loss: 0.2168 - acc: 0.9117Epoch 1/100\n",
            "176/176 [==============================] - 189s 1s/step - loss: 0.2171 - acc: 0.9114 - val_loss: 0.1580 - val_acc: 0.9432\n",
            "Epoch 94/100\n",
            "175/176 [============================>.] - ETA: 0s - loss: 0.2150 - acc: 0.9119Epoch 1/100\n",
            "176/176 [==============================] - 185s 1s/step - loss: 0.2146 - acc: 0.9121 - val_loss: 0.1343 - val_acc: 0.9484\n",
            "Epoch 95/100\n",
            "175/176 [============================>.] - ETA: 0s - loss: 0.2120 - acc: 0.9096Epoch 1/100\n",
            "176/176 [==============================] - 185s 1s/step - loss: 0.2121 - acc: 0.9096 - val_loss: 0.1503 - val_acc: 0.9440\n",
            "Epoch 96/100\n",
            "175/176 [============================>.] - ETA: 0s - loss: 0.2197 - acc: 0.9110Epoch 1/100\n",
            "176/176 [==============================] - 187s 1s/step - loss: 0.2193 - acc: 0.9112 - val_loss: 0.1567 - val_acc: 0.9420\n",
            "Epoch 97/100\n",
            "175/176 [============================>.] - ETA: 0s - loss: 0.2128 - acc: 0.9124Epoch 1/100\n",
            "176/176 [==============================] - 190s 1s/step - loss: 0.2124 - acc: 0.9125 - val_loss: 0.1383 - val_acc: 0.9484\n",
            "Epoch 98/100\n",
            "175/176 [============================>.] - ETA: 0s - loss: 0.2110 - acc: 0.9155Epoch 1/100\n",
            "176/176 [==============================] - 187s 1s/step - loss: 0.2105 - acc: 0.9158 - val_loss: 0.1451 - val_acc: 0.9444\n",
            "Epoch 99/100\n",
            "175/176 [============================>.] - ETA: 0s - loss: 0.2085 - acc: 0.9170Epoch 1/100\n",
            "176/176 [==============================] - 184s 1s/step - loss: 0.2088 - acc: 0.9168 - val_loss: 0.4633 - val_acc: 0.8756\n",
            "Epoch 100/100\n",
            "175/176 [============================>.] - ETA: 0s - loss: 0.2044 - acc: 0.9152Epoch 1/100\n",
            "176/176 [==============================] - 183s 1s/step - loss: 0.2051 - acc: 0.9148 - val_loss: 0.2042 - val_acc: 0.9112\n"
          ],
          "name": "stdout"
        }
      ]
    },
    {
      "cell_type": "code",
      "metadata": {
        "id": "MWZrJN4-65RC",
        "colab_type": "code",
        "outputId": "4e04ba37-a583-4cfa-cc95-3aede66bbb13",
        "colab": {
          "base_uri": "https://localhost:8080/",
          "height": 562
        }
      },
      "source": [
        "# PLOT LOSS AND ACCURACY\n",
        "%matplotlib inline\n",
        "\n",
        "import matplotlib.image  as mpimg\n",
        "import matplotlib.pyplot as plt\n",
        "\n",
        "#-----------------------------------------------------------\n",
        "# Retrieve a list of list results on training and test data\n",
        "# sets for each training epoch\n",
        "#-----------------------------------------------------------\n",
        "acc=history.history['acc']\n",
        "val_acc=history.history['val_acc']\n",
        "loss=history.history['loss']\n",
        "val_loss=history.history['val_loss']\n",
        "\n",
        "epochs=range(len(acc)) # Get number of epochs\n",
        "\n",
        "#------------------------------------------------\n",
        "# Plot training and validation accuracy per epoch\n",
        "#------------------------------------------------\n",
        "plt.plot(epochs, acc, 'r', \"Training Accuracy\")\n",
        "plt.plot(epochs, val_acc, 'b', \"Validation Accuracy\")\n",
        "plt.title('Training and validation accuracy')\n",
        "plt.figure()\n",
        "\n",
        "#------------------------------------------------\n",
        "# Plot training and validation loss per epoch\n",
        "#------------------------------------------------\n",
        "plt.plot(epochs, loss, 'r', \"Training Loss\")\n",
        "plt.plot(epochs, val_loss, 'b', \"Validation Loss\")\n",
        "\n",
        "\n",
        "plt.title('Training and validation loss')\n",
        "\n",
        "# Desired output. Charts with training and validation metrics. No crash :)"
      ],
      "execution_count": 0,
      "outputs": [
        {
          "output_type": "execute_result",
          "data": {
            "text/plain": [
              "Text(0.5, 1.0, 'Training and validation loss')"
            ]
          },
          "metadata": {
            "tags": []
          },
          "execution_count": 14
        },
        {
          "output_type": "display_data",
          "data": {
            "image/png": "[encoded data removed]",
            "text/plain": [
              "<Figure size 432x288 with 1 Axes>"
            ]
          },
          "metadata": {
            "tags": []
          }
        },
        {
          "output_type": "display_data",
          "data": {
            "image/png": "[encoded data removed]",
            "text/plain": [
              "<Figure size 432x288 with 1 Axes>"
            ]
          },
          "metadata": {
            "tags": []
          }
        }
      ]
    },
    {
      "cell_type": "code",
      "metadata": {
        "id": "LqL6FYUrtXpf",
        "colab_type": "code",
        "colab": {}
      },
      "source": [
        "# Here's a codeblock just for fun. You should be able to upload an image here \n",
        "# and have it classified without crashing\n",
        "\n",
        "import numpy as np\n",
        "from google.colab import files\n",
        "from keras.preprocessing import image\n",
        "\n",
        "uploaded = files.upload()\n",
        "\n",
        "for fn in uploaded.keys():\n",
        " \n",
        "  # predicting images\n",
        "  path = '/content/' + fn\n",
        "  img = image.load_img(path, target_size=(# YOUR CODE HERE))\n",
        "  x = image.img_to_array(img)\n",
        "  x = np.expand_dims(x, axis=0)\n",
        "\n",
        "  images = np.vstack([x])\n",
        "  classes = model.predict(images, batch_size=10)\n",
        "  print(classes[0])\n",
        "  if classes[0]>0.5:\n",
        "    print(fn + \" is a dog\")\n",
        "  else:\n",
        "    print(fn + \" is a cat\")"
      ],
      "execution_count": 0,
      "outputs": []
    }
  ]
}